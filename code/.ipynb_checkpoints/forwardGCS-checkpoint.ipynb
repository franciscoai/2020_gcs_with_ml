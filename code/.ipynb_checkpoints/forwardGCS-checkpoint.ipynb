{
 "cells": [
  {
   "cell_type": "markdown",
   "metadata": {},
   "source": [
    "## Librerias"
   ]
  },
  {
   "cell_type": "code",
   "execution_count": 114,
   "metadata": {},
   "outputs": [],
   "source": [
    "from pyGCS_ import *\n",
    "import numpy as np\n",
    "import numpy.ma as ma\n",
    "import datetime\n",
    "import struct\n",
    "import matplotlib.pyplot as plt\n",
    "from scipy.stats import kde\n",
    "from astropy.io import fits #proporciona acceso a los archivos de FITS(Flexible Image Transport System) es un estándar de archivos portátiles \n",
    "import sunpy\n",
    "from sunpy.coordinates.ephemeris import get_horizons_coord\n",
    "import sunpy.map\n",
    "from sunpy.map.maputils import all_coordinates_from_map"
   ]
  },
  {
   "cell_type": "markdown",
   "metadata": {},
   "source": [
    "## Headers"
   ]
  },
  {
   "cell_type": "code",
   "execution_count": 69,
   "metadata": {},
   "outputs": [
    {
     "name": "stdout",
     "output_type": "stream",
     "text": [
      "INFO: Obtained JPL HORIZONS location for SOHO (spacecraft) (-21) [sunpy.coordinates.ephemeris]\n",
      "INFO: Obtained JPL HORIZONS location for SOHO (spacecraft) (-21) [sunpy.coordinates.ephemeris]\n"
     ]
    }
   ],
   "source": [
    "# flag if using LASCO data from ISSI which has STEREOlike headers already\n",
    "ISSIflag = False\n",
    "\n",
    "# Read in your data\n",
    "mainpath  = '/gehme/projects/2020_gcs_with_ml/data/'\n",
    "eventpath = 'test_event/'\n",
    "c2path    = mainpath+eventpath+'c2/' \n",
    "c3path    = mainpath+eventpath+'c3/' \n",
    "cor2apath = mainpath+eventpath+'cor2/a/' \n",
    "cor2bpath = mainpath+eventpath+'cor2/b/'\n",
    "\n",
    "# ISSI data (hierarchy folders)\n",
    "fnameA1 = getFile(cor2apath, '20010101_231')\n",
    "fnameB1 = getFile(cor2bpath, '20010101_231')\n",
    "fnameL1  = getFile(c3path, '20010101_232')  \n",
    "fnameA2 = getFile(cor2apath, '20010102_081')\n",
    "fnameB2 = getFile(cor2bpath, '20010102_081')\n",
    "fnameL2  = getFile(c3path, '20010102_082')\n",
    "\n",
    "# Non ISSI data (all in one folder)\n",
    "'''thisPath = mainpath+eventpath\n",
    "fnameA1 = getFile(thisPath, '20130522_080', ext='A.fts')\n",
    "fnameB1 = getFile(thisPath, '20130522_080', ext='B.fts')\n",
    "fnameL1  = getFile(thisPath, '20130522_075', ext='C2.fts') \n",
    "fnameA2 = getFile(thisPath, '20130522_132', ext='A.fts')\n",
    "fnameB2 = getFile(thisPath, '20130522_132', ext='B.fts')\n",
    "fnameL2  = getFile(thisPath, '20130522_132', ext='C2.fts')'''\n",
    "\n",
    "# STEREO A\n",
    "ima1, hdra1 = sunpy.io.fits.read(fnameA1)[0]\n",
    "smap_SA1 = sunpy.map.Map(ima1, hdra1)\n",
    "ima2, hdra2 = sunpy.io.fits.read(fnameA2)[0]\n",
    "smap_SA2 = sunpy.map.Map(ima2, hdra2)\n",
    "\n",
    "# # STEREO B\n",
    "imb1, hdrb1 = sunpy.io.fits.read(fnameB1)[0]\n",
    "smap_SB1 = sunpy.map.Map(imb1, hdrb1)\n",
    "imb2, hdrb2 = sunpy.io.fits.read(fnameB2)[0]\n",
    "smap_SB2 = sunpy.map.Map(imb2, hdrb2)\n",
    "\n",
    "# # LASCO\n",
    "\n",
    "if ISSIflag:\n",
    "    imL1, hdrL1 = sunpy.io.fits.read(fnameL1)[0]\n",
    "    imL2, hdrL2 = sunpy.io.fits.read(fnameL2)[0]\n",
    "    \n",
    "else:\n",
    "    with fits.open(fnameL1) as myfitsL1:\n",
    "        imL1 = myfitsL1[0].data\n",
    "        myfitsL1[0].header['OBSRVTRY'] = 'SOHO'\n",
    "        coordL1 = get_horizons_coord(-21, datetime.datetime.strptime(myfitsL1[0].header['DATE-OBS'], \"%Y-%m-%dT%H:%M:%S.%f\"), 'id')\n",
    "        coordL1carr = coordL1.transform_to(sunpy.coordinates.frames.HeliographicCarrington)\n",
    "        coordL1ston = coordL1.transform_to(sunpy.coordinates.frames.HeliographicStonyhurst)\n",
    "        myfitsL1[0].header['CRLT_OBS'] = coordL1carr.lat.deg\n",
    "        myfitsL1[0].header['CRLN_OBS'] = coordL1carr.lon.deg\n",
    "        myfitsL1[0].header['HGLT_OBS'] = coordL1ston.lat.deg\n",
    "        myfitsL1[0].header['HGLN_OBS'] = coordL1ston.lon.deg\n",
    "        hdrL1 = myfitsL1[0].header\n",
    "    with fits.open(fnameL2) as myfitsL2:\n",
    "        imL2 = myfitsL2[0].data\n",
    "        myfitsL2[0].header['OBSRVTRY'] = 'SOHO'\n",
    "        coordL2 = get_horizons_coord(-21, datetime.datetime.strptime(myfitsL2[0].header['DATE-OBS'], \"%Y-%m-%dT%H:%M:%S.%f\"), 'id')\n",
    "        coordL2carr = coordL2.transform_to(sunpy.coordinates.frames.HeliographicCarrington)\n",
    "        coordL2ston = coordL2.transform_to(sunpy.coordinates.frames.HeliographicStonyhurst)\n",
    "        myfitsL2[0].header['CRLT_OBS'] = coordL2carr.lat.deg\n",
    "        myfitsL2[0].header['CRLN_OBS'] = coordL2carr.lon.deg\n",
    "        myfitsL2[0].header['HGLT_OBS'] = coordL2ston.lat.deg\n",
    "        myfitsL2[0].header['HGLN_OBS'] = coordL2ston.lon.deg\n",
    "        hdrL2 = myfitsL2[0].header\n",
    "smap_L1 = sunpy.map.Map(imL1, hdrL1)\n",
    "smap_L2 = sunpy.map.Map(imL2, hdrL2)\n",
    "\n",
    "headers = [hdra2, hdrL2, hdrb2]\n"
   ]
  },
  {
   "cell_type": "markdown",
   "metadata": {},
   "source": [
    "## processHeaders modificado para que tambièn entregue RSUN"
   ]
  },
  {
   "cell_type": "code",
   "execution_count": null,
   "metadata": {},
   "outputs": [],
   "source": [
    "def processHeaders(headers):\n",
    "    satpos  = []\n",
    "    plotranges = []\n",
    "    rSuns = []\n",
    "    for i in range(len(headers)):\n",
    "        # Stonyhurst coords for the sats\n",
    "        thisHead = headers[i]\n",
    "        satpos.append([float(thisHead['HGLN_OBS']), float(thisHead['HGLT_OBS']), float(thisHead['CROTA'])])\n",
    "        # assuming Sun is in center.... for now\n",
    "        rSun = float(thisHead['RSUN']) # in arcsecs\n",
    "        xaxrange = float(thisHead['CDELT1']) * int(thisHead['NAXIS1'])/rSun\n",
    "        yaxrange = float(thisHead['CDELT2']) * int(thisHead['NAXIS2'])/rSun\n",
    "        rSuns.append(rSun)\n",
    "        plotranges.append([-xaxrange/2, xaxrange/2,-yaxrange/2, yaxrange/2])\n",
    "    return satpos, plotranges, rSuns"
   ]
  },
  {
   "cell_type": "markdown",
   "metadata": {},
   "source": [
    "## Función ajuste del centro del sol"
   ]
  },
  {
   "cell_type": "code",
   "execution_count": 137,
   "metadata": {},
   "outputs": [
    {
     "name": "stdout",
     "output_type": "stream",
     "text": [
      "0.4301846999658032 1.263954805548554\n"
     ]
    }
   ],
   "source": [
    "def centerSun(headers,plotranges, sat):\n",
    "    x_cS = (headers[sat]['CRPIX1']*plotranges[sat][sat]*2)/headers[sat]['NAXIS1'] - plotranges[sat][sat]\n",
    "    y_cS = (headers[sat]['CRPIX2']*plotranges[sat][sat]*2)/headers[sat]['NAXIS2'] - plotranges[sat][sat]\n",
    "    return x_cS, y_cS"
   ]
  },
  {
   "cell_type": "code",
   "execution_count": null,
   "metadata": {},
   "outputs": [],
   "source": [
    "hpc_coords = all_coordinates_from_map(smap_L2)\n",
    "r_occ = np.sqrt(hpc_coords.Tx ** 2 + hpc_coords.Ty ** 2) / smap_L2.rsun_obs\n",
    "mask = ma.masked_less_equal(r, 1)\n",
    "palette = smap_L2.cmap\n",
    "palette.set_bad('black')\n",
    "scaled_map = sunpy.map.Map(smap_L2.data, smap_L2.meta, mask=mask.mask)\n",
    "fig = plt.figure()\n",
    "plt.subplot(projection=scaled_map)\n",
    "scaled_map.plot(cmap=palette)\n",
    "scaled_map.draw_limb()\n",
    "plt.show()\n",
    "# print(hdrL2)\n",
    "# smap_L2.peek(draw_limb=True)"
   ]
  },
  {
   "cell_type": "markdown",
   "metadata": {},
   "source": [
    "## Función Kernel Density Estimation"
   ]
  },
  {
   "cell_type": "code",
   "execution_count": 94,
   "metadata": {},
   "outputs": [],
   "source": [
    "def xi_yi_zi_KDE(x, y, nbins=300): \n",
    "    \n",
    "    #representa cada punto discreto por una campana de Gauss:\n",
    "    k = kde.gaussian_kde([x,y]) \n",
    "    #nbins es el ancho de cada campana\n",
    "    xi, yi = np.mgrid[x.min():x.max():nbins*1j, y.min():y.max():nbins*1j] \n",
    "    zi = k(np.vstack([xi.flatten(), yi.flatten()])) \n",
    "    return  xi, yi, zi             \n",
    "     "
   ]
  },
  {
   "cell_type": "markdown",
   "metadata": {},
   "source": [
    "## Función para guardar configuración en .dat"
   ]
  },
  {
   "cell_type": "code",
   "execution_count": 78,
   "metadata": {},
   "outputs": [],
   "source": [
    "def save_config(*parameters):\n",
    "    \n",
    "    date_str = datetime.strftime(datetime.now(), '%Y_%m_%d_')\n",
    "    total_models = 0\n",
    "    \n",
    "    for parameter in parameters:\n",
    "        total_models *= len(parameter)\n",
    "        \n",
    "    config_name = date_str + '{:04d}'.format(total_models+1)\n",
    "    \n",
    "    #texto plano:\n",
    "    with open('/gehme/projects/2020_gcs_with_ml/data/%s.dat' %config_name, 'w') as config_file:\n",
    "        config_file.writelines(\"%s\\n\" % parameter for parameter in parameters)\n",
    "        \n",
    "    #file binario:\n",
    "#   with open('/gehme/projects/2020_gcs_with_ml/data/%s.dat' %config_name, 'wb') as config_file:\n",
    "#       for parameter in parameters:\n",
    "#            config_file.write(struct.pack('i'*int(len(parameter)), *parameter))\n",
    "    "
   ]
  },
  {
   "cell_type": "markdown",
   "metadata": {},
   "source": [
    "## Función forwardGCS\n"
   ]
  },
  {
   "cell_type": "code",
   "execution_count": 124,
   "metadata": {},
   "outputs": [],
   "source": [
    "def forwardGCS(CMElons, CMElats, CMEtilts, heights, ks, angs, headers, nleg = 5, ncirc = 20, ncross = 30):\n",
    "    \n",
    "    # Get the location of sats and the range of each image\n",
    "    satpos, plotranges = processHeaders(headers) \n",
    "    \n",
    "    #guardo configuración:\n",
    "#     save_config(CMElons, CMElats, CMEtilts, heights, ks, angs)\n",
    "\n",
    "    # creo Set de imágenes de CMEs para todas las combinaciones de los parámetros de entrada para cada vista de SATPOS:\n",
    "    for CMElon in CMElons:\n",
    "        for CMElat in CMElats:\n",
    "            for CMEtilt in CMEtilts:\n",
    "                for height in heights:\n",
    "                    for k in ks:\n",
    "                        for ang in angs:\n",
    "                            clouds = getGCS(CMElon, CMElat, CMEtilt, height, k, ang, satpos, nleg, ncirc, ncross)\n",
    "                            for sat in range(len(satpos)):\n",
    "                                \n",
    "                                #creo figura:\n",
    "                                f = plt.figure(figsize=(10,10))\n",
    "                                x = clouds[sat,:,1]\n",
    "                                y = clouds[0,:,2]\n",
    "                                \n",
    "                                #mapeo la matriz [zi,xi], con límites [xi,yi]:\n",
    "                                xi, yi, zi = xi_yi_zi_KDE(x, y)\n",
    "#                                 plt.pcolormesh(xi, yi, zi.reshape(xi.shape), cmap='gray', facecolor='black') \n",
    "#                                 plt.imshow(ims[sat], vmin=-10, vmax=10, cmap=cm.binary, zorder=0, extent=plotranges[sat])\n",
    "                                #imagen de puntos de la CME:\n",
    "                                plt.scatter(clouds[sat,:,1], clouds[0,:,2], s=5, c='white', linewidths=0) \n",
    "                                \n",
    "                                #tamaño de la imagen referenciado al tamaño de la imagen del sol:\n",
    "                                plt.xlim(plotranges[sat][0],plotranges[sat][1])\n",
    "                                plt.ylim(plotranges[sat][2],plotranges[sat][3])\n",
    "                                plt.axis('off')\n",
    "                                \n",
    "                                #guardo cada vista CME\n",
    "                                #plt.savefig('/gehme/projects/2020_gcs_with_ml/data/{:010.5f}_{:010.5f}_{:010.5f}_{:010.5f}_{:010.5f}_{:010.5f}_sat{}.png'.format(CMElon, CMElat, CMEtilt, height, k, ang, sat+1))\n",
    "                                plt.show()\n",
    "                                plt.close(f)"
   ]
  },
  {
   "cell_type": "markdown",
   "metadata": {},
   "source": [
    "## Parámetros de entrada de prueba"
   ]
  },
  {
   "cell_type": "code",
   "execution_count": 125,
   "metadata": {},
   "outputs": [],
   "source": [
    "CMElon_val_ini = 61\n",
    "CMElon_val_end = 62\n",
    "CMElon_step_size = 1\n",
    "\n",
    "CMElat_val_ini = 29\n",
    "CMElat_val_end = 30\n",
    "CMElat_step_size = 1\n",
    "\n",
    "CMEtilt_val_ini = 71\n",
    "CMEtilt_val_end = 72\n",
    "CMEtilt_step_size = 1\n",
    "\n",
    "height_val_ini = 5.9\n",
    "height_val_end = 6.9\n",
    "height_step_size = 1\n",
    "\n",
    "k_val_ini = 0.09\n",
    "k_val_end = 0.10\n",
    "k_step_size = 0.1\n",
    "\n",
    "ang_val_ini = 54\n",
    "ang_val_end = 55\n",
    "ang_step_size = 1\n"
   ]
  },
  {
   "cell_type": "code",
   "execution_count": 126,
   "metadata": {},
   "outputs": [
    {
     "data": {
      "image/png": "[encoded data removed]",
      "text/plain": [
       "<Figure size 720x720 with 1 Axes>"
      ]
     },
     "metadata": {
      "needs_background": "light"
     },
     "output_type": "display_data"
    },
    {
     "data": {
      "image/png": "[encoded data removed]",
      "text/plain": [
       "<Figure size 720x720 with 1 Axes>"
      ]
     },
     "metadata": {
      "needs_background": "light"
     },
     "output_type": "display_data"
    },
    {
     "data": {
      "image/png": "[encoded data removed]",
      "text/plain": [
       "<Figure size 720x720 with 1 Axes>"
      ]
     },
     "metadata": {
      "needs_background": "light"
     },
     "output_type": "display_data"
    }
   ],
   "source": [
    "# armo los parámetros \n",
    "CMElons = np.arange(CMElon_val_ini, CMElon_val_end, CMElon_step_size)#arange acepta pasos decimales\n",
    "CMElats = np.arange(CMElat_val_ini, CMElat_val_end, CMElat_step_size)\n",
    "CMEtilts = np.arange(CMEtilt_val_ini, CMEtilt_val_end, CMEtilt_step_size)\n",
    "heights = np.arange(height_val_ini, height_val_end, height_step_size)\n",
    "ks = np.arange(k_val_ini, k_val_end, k_step_size) \n",
    "angs = np.arange(ang_val_ini, ang_val_end, ang_step_size)\n",
    "forwardGCS(CMElons,CMElats,CMEtilts,heights,ks,angs, headers)"
   ]
  },
  {
   "cell_type": "code",
   "execution_count": null,
   "metadata": {},
   "outputs": [],
   "source": []
  },
  {
   "cell_type": "code",
   "execution_count": null,
   "metadata": {},
   "outputs": [],
   "source": [
    "# Make a mask for the occulter and outside circular FOV -------------------------|\n",
    "        # Again being lazy and making the same Sun centered approx\n",
    "        global masks, innerR\n",
    "        # Occulter distance for each satellite\n",
    "        instrDict = {'COR1':1.3, 'COR2': 2, 'C2':1.5, 'C3': 3.7}\n",
    "        masks = []\n",
    "        innerR = []\n",
    "        cents = []\n",
    "        for idx in range(nSats):  \n",
    "            myInst = sats[idx][1] \n",
    "            mask = np.zeros(imsIn[idx].shape)\n",
    "            cent = int(imsIn[idx].shape[0]/2)\n",
    "            line = np.linspace(0,imsIn[idx].shape[1]-1,imsIn[idx].shape[1])\n",
    "            for i in range(imsIn[idx].shape[0]):\n",
    "                    mask[i,:] = np.sqrt((i-cent)**2 + (line-cent)**2)\n",
    "            mask = mask / scaleNshift[idx][0]\n",
    "            mask[np.where(mask >plotrangesIn[idx][1])] = 1.\n",
    "            mask[np.where(mask<instrDict[myInst])] = 1.\n",
    "            innerR.append(instrDict[myInst])\n",
    "            masks.append(mask)\n",
    "            "
   ]
  }
 ],
 "metadata": {
  "kernelspec": {
   "display_name": "Python 3",
   "language": "python",
   "name": "python3"
  },
  "language_info": {
   "codemirror_mode": {
    "name": "ipython",
    "version": 3
   },
   "file_extension": ".py",
   "mimetype": "text/x-python",
   "name": "python",
   "nbconvert_exporter": "python",
   "pygments_lexer": "ipython3",
   "version": "3.8.2"
  }
 },
 "nbformat": 4,
 "nbformat_minor": 4
}
