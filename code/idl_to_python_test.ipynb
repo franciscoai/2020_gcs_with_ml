{
 "cells": [
  {
   "cell_type": "code",
   "execution_count": 41,
   "metadata": {},
   "outputs": [],
   "source": [
    "#generate thomson scaterring views for A n B\n",
    "pro event_generateview,ev\n",
    "common com_sgui\n",
    "\n",
    "neang=rtsccguicloud_calcneang(sgui.lon,sgui.lat,sgui.rot,sgui.carrlonshiftdeg,sgui.carrstonyshiftdeg)\n",
    "\n",
    "hgt=rtsccguicloud_calcfeetheight(sgui.hgt,sgui.rat,sgui.han)\n",
    "mp=[1.5,sgui.han,hgt,sgui.rat,sgui.nel,0.,0.,0.,sgui.sigin,sgui.sigout]\n",
    "\n",
    "print,'Computing view SC-A'\n",
    "rtraytracewcs,sbta,sbpa,snea,modelid=54,imsize=sgui.imdispsize,losrange=sgui.losrange,modparam=mp,neang=neang,scchead=sgui.hdra,losnbp=sgui.losnbp,/progressonly\n",
    "\n",
    "print,'Computing view SC-B'\n",
    "rtraytracewcs,sbtb,sbpb,sneb,modelid=54,imsize=sgui.imdispsize,losrange=sgui.losrange,modparam=mp,neang=neang,scchead=sgui.hdrb,losnbp=sgui.losnbp,/progressonly\n",
    "\n",
    "\n",
    "if sgui.flaglasco then begin\n",
    "\tprint,'Computing view LASCO'\n",
    "\trtraytracewcs,sbtlasco,sbplasco,snelasco,modelid=54,imsize=sgui.imdispsize,losrange=sgui.losrange,modparam=mp,neang=neang,scchead=sgui.shdrlasco,losnbp=sgui.losnbp,/progressonly\n",
    "endif\n",
    "print,'Done'"
   ]
  },
  {
   "cell_type": "code",
   "execution_count": null,
   "metadata": {},
   "outputs": [],
   "source": []
  }
 ],
 "metadata": {
  "kernelspec": {
   "display_name": "Python 3",
   "language": "python",
   "name": "python3"
  },
  "language_info": {
   "codemirror_mode": {
    "name": "ipython",
    "version": 3
   },
   "file_extension": ".py",
   "mimetype": "text/x-python",
   "name": "python",
   "nbconvert_exporter": "python",
   "pygments_lexer": "ipython3",
   "version": "3.8.2"
  }
 },
 "nbformat": 4,
 "nbformat_minor": 4
}
