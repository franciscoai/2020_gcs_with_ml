{
 "cells": [
  {
   "cell_type": "markdown",
   "metadata": {},
   "source": [
    "## Librerias"
   ]
  },
  {
   "cell_type": "code",
   "execution_count": 44,
   "metadata": {},
   "outputs": [],
   "source": [
    "from pyGCS_ import *\n",
    "import numpy as np\n",
    "import numpy.ma as ma\n",
    "import datetime\n",
    "import struct\n",
    "import matplotlib.pyplot as plt\n",
    "import matplotlib.path as mpath\n",
    "import matplotlib.patches as mpatches\n",
    "from scipy.stats import kde\n",
    "from astropy.io import fits #proporciona acceso a los archivos de FITS(Flexible Image Transport System) es un estándar de archivos portátiles \n",
    "import sunpy\n",
    "from sunpy.coordinates.ephemeris import get_horizons_coord\n",
    "import sunpy.map\n",
    "from sunpy.map.maputils import all_coordinates_from_map\n",
    "import json\n",
    "import random"
   ]
  },
  {
   "cell_type": "markdown",
   "metadata": {},
   "source": [
    "## Diccionario de lista de combinaciones de parametros"
   ]
  },
  {
   "cell_type": "code",
   "execution_count": 67,
   "metadata": {},
   "outputs": [],
   "source": [
    "def dic_Parameters(CMElons, CMElats, CMEtilts, heights, ks, angs, nleg, ncirc, ncross):\n",
    "    list_config = []\n",
    "    dic_parameters = {}\n",
    "    combinations = len(CMElons)**6\n",
    "    # Se crean todas las combinaciones de parametros:\n",
    "    for combination in range(combinations):\n",
    "        list_config.append([random.sample(CMElons,1),random.sample(CMElats,1),random.sample(CMEtilts,1),random.sample(heights,1),random.sample(ks,1),random.sample(angs,1),nleg, ncirc, ncross])\n",
    "    dic_parameters['config'] = list_config\n",
    "    return dic_parameters"
   ]
  },
  {
   "cell_type": "markdown",
   "metadata": {},
   "source": [
    "## Función ajuste del centro del sol"
   ]
  },
  {
   "cell_type": "code",
   "execution_count": 46,
   "metadata": {},
   "outputs": [],
   "source": [
    "def center_rSun_pixel(headers,plotranges, sat):\n",
    "    x_cS = (headers[sat]['CRPIX1']*plotranges[sat][sat]*2)/headers[sat]['NAXIS1'] - plotranges[sat][sat]\n",
    "    y_cS = (headers[sat]['CRPIX2']*plotranges[sat][sat]*2)/headers[sat]['NAXIS2'] - plotranges[sat][sat]\n",
    "    return x_cS, y_cS"
   ]
  },
  {
   "cell_type": "markdown",
   "metadata": {},
   "source": [
    "## Función Kernel Density Estimation"
   ]
  },
  {
   "cell_type": "code",
   "execution_count": 47,
   "metadata": {},
   "outputs": [],
   "source": [
    "def xi_yi_zi_KDE(x, y, nbins=300): \n",
    "    \n",
    "    #representa cada punto discreto por una campana de Gauss:\n",
    "    k = kde.gaussian_kde([x,y]) \n",
    "    #nbins es el ancho de cada campana\n",
    "    xi, yi = np.mgrid[x.min():x.max():nbins*1j, y.min():y.max():nbins*1j] \n",
    "    zi = k(np.vstack([xi.flatten(), yi.flatten()])) \n",
    "    return  xi, yi, zi             \n",
    "     "
   ]
  },
  {
   "cell_type": "markdown",
   "metadata": {},
   "source": [
    "## Función para guardar configuración en .dat"
   ]
  },
  {
   "cell_type": "code",
   "execution_count": 48,
   "metadata": {},
   "outputs": [],
   "source": [
    "# def save_config(*parameters):\n",
    "    \n",
    "#     date_str = datetime.datetime.strftime(datetime.datetime.now(), '%Y_%m_%d_')\n",
    "#     total_models = 0\n",
    "    \n",
    "#     for parameter in parameters:\n",
    "#         total_models *= len(parameter)\n",
    "        \n",
    "#     config_name = date_str + '{:04d}'.format(total_models+1)\n",
    "    \n",
    "#     #texto plano:\n",
    "#     with open('/gehme/projects/2020_gcs_with_ml/data/%s.dat' %config_name, 'w') as config_file:\n",
    "#         config_file.writelines(\"%s\" % parameters[i] for i in range(len(parameters)))\n",
    "        \n",
    "  "
   ]
  },
  {
   "cell_type": "code",
   "execution_count": 49,
   "metadata": {},
   "outputs": [],
   "source": [
    "def save_config(diccionario):\n",
    "    \n",
    "    date_str = datetime.datetime.strftime(datetime.datetime.now(), '%Y_%m_%d_')\n",
    "    \n",
    "    total_models = len(diccionario['config'])\n",
    "        \n",
    "    config_name = date_str + '{:04d}'.format(total_models)\n",
    "    \n",
    "    with open('/gehme/projects/2020_gcs_with_ml/data/forwardGCS_test/%s.json' %config_name, 'w') as json_file:\n",
    "        json.dump(diccionario,json_file)"
   ]
  },
  {
   "cell_type": "markdown",
   "metadata": {},
   "source": [
    "## Función forwardGCS\n"
   ]
  },
  {
   "cell_type": "code",
   "execution_count": 50,
   "metadata": {},
   "outputs": [],
   "source": [
    "def forwardGCS(dict_parameters, headers, size_occ):\n",
    "    \n",
    "    # Get the location of sats and the range of each image:\n",
    "    satpos, plotranges = processHeaders(headers)\n",
    "    \n",
    "    dict_parameters['satpos'] = satpos\n",
    "    dict_parameters['plotranges'] = plotranges\n",
    "    # creo Set de imágenes de CMEs para todas las combinaciones de los parámetros de entrada para cada vista de SATPOS:\n",
    "    for config in dict_parameters['config']:\n",
    "        clouds = getGCS(config[0], config[1], config[2], config[3], config[4], config[5], satpos, config[6], config[7], config[8])\n",
    "        #with open('/gehme/projects/2020_gcs_with_ml/data/%s.dat' %config_name, 'a') as config_file:\n",
    "        for sat in range(len(satpos)):\n",
    "            #creo figura:\n",
    "            f = plt.figure(figsize=(3.556,3.556), facecolor='black')\n",
    "            ax = f.add_subplot()\n",
    "            x = clouds[sat,:,1]\n",
    "            y = clouds[0,:,2]\n",
    "            #calculo el centro y el radio del sol en coordenada de plotrange\n",
    "            x_cS, y_cS= center_rSun_pixel(headers,plotranges, sat)\n",
    "            #mapeo la matriz [zi,xi], con límites [xi,yi]:\n",
    "#             xi, yi, zi = xi_yi_zi_KDE(x, y)\n",
    "#             plt.pcolormesh(xi, yi, zi.reshape(xi.shape), cmap='gist_yarg', facecolor='black') \n",
    "            #                                 plt.imshow(ims[sat], vmin=-10, vmax=10, cmap=cm.binary, zorder=0, extent=plotranges[sat])\n",
    "            #imagen de puntos de la CME:\n",
    "            plt.scatter(clouds[sat,:,1], clouds[0,:,2], s=5, c='purple', linewidths=0) \n",
    "            #circulos occulter y limbo:\n",
    "            occulter = plt.Circle((x_cS, y_cS), size_occ[sat], fc='white')\n",
    "            limbo = plt.Circle((x_cS, y_cS), 1, ec='black', fc='white')\n",
    "            ax.add_artist(occulter)\n",
    "            ax.add_artist(limbo)\n",
    "            #tamaño de la imagen referenciado al tamaño de la imagen del sol:\n",
    "            plt.xlim(plotranges[sat][0],plotranges[sat][1])\n",
    "            plt.ylim(plotranges[sat][2],plotranges[sat][3])\n",
    "            plt.axis('off')\n",
    "            #guardo cada vista CME\n",
    "            f.savefig('/gehme/projects/2020_gcs_with_ml/data/forwardGCS_test/{:08.3f}_{:08.3f}_{:08.3f}_{:08.3f}_{:08.3f}_{:08.3f}_sat{}.png'.format(config[0], config[1], config[2], config[3], config[4], config[5], sat+1),facecolor=f.get_facecolor())\n",
    "#             plt.show()\n",
    "            plt.close(f)"
   ]
  },
  {
   "cell_type": "markdown",
   "metadata": {},
   "source": [
    "# DATOS DE ENTRADA"
   ]
  },
  {
   "cell_type": "code",
   "execution_count": 61,
   "metadata": {},
   "outputs": [],
   "source": [
    "CMElon_val_ini = 60\n",
    "CMElon_val_end = 65\n",
    "CMElon_step_size = 1\n",
    "CMElons = np.arange(CMElon_val_ini, CMElon_val_end, CMElon_step_size).tolist()\n",
    "\n",
    "CMElat_val_ini = 20\n",
    "CMElat_val_end = 25\n",
    "CMElat_step_size = 1\n",
    "CMElats = np.arange(CMElat_val_ini, CMElat_val_end, CMElat_step_size).tolist()\n",
    "\n",
    "CMEtilt_val_ini = 70\n",
    "CMEtilt_val_end = 75\n",
    "CMEtilt_step_size = 1\n",
    "CMEtilts = np.arange(CMEtilt_val_ini, CMEtilt_val_end, CMEtilt_step_size).tolist()\n",
    "\n",
    "height_val_ini = 6\n",
    "height_val_end = 11\n",
    "height_step_size = 1\n",
    "heights = np.arange(height_val_ini, height_val_end, height_step_size).tolist()\n",
    "\n",
    "k_val_ini = 0.1\n",
    "k_val_end = 0.6\n",
    "k_step_size = 0.1\n",
    "ks = np.arange(k_val_ini, k_val_end, k_step_size).tolist()\n",
    "\n",
    "ang_val_ini = 50\n",
    "ang_val_end = 55\n",
    "ang_step_size = 1\n",
    "angs = np.arange(ang_val_ini, ang_val_end, ang_step_size).tolist()\n",
    "\n",
    "nleg = 5\n",
    "ncirc = 20\n",
    "ncross = 30\n"
   ]
  },
  {
   "cell_type": "code",
   "execution_count": 62,
   "metadata": {},
   "outputs": [
    {
     "name": "stdout",
     "output_type": "stream",
     "text": [
      "[60, 61, 62, 63, 64] [20, 21, 22, 23, 24] [70, 71, 72, 73, 74] [6, 7, 8, 9, 10] [0.1, 0.2, 0.30000000000000004, 0.4, 0.5] [50, 51, 52, 53, 54]\n"
     ]
    }
   ],
   "source": [
    "print(CMElons, CMElats, CMEtilts, heights, ks, angs)"
   ]
  },
  {
   "cell_type": "markdown",
   "metadata": {},
   "source": [
    "## Headers"
   ]
  },
  {
   "cell_type": "code",
   "execution_count": 52,
   "metadata": {},
   "outputs": [
    {
     "name": "stdout",
     "output_type": "stream",
     "text": [
      "INFO: Obtained JPL HORIZONS location for SOHO (spacecraft) (-21) [sunpy.coordinates.ephemeris]\n"
     ]
    }
   ],
   "source": [
    "# flag if using LASCO data from ISSI which has STEREOlike headers already\n",
    "ISSIflag = False\n",
    "\n",
    "# Read in your data\n",
    "DATA_PATH = '/gehme/data'\n",
    "secchipath = DATA_PATH+'/stereo/secchi/L0'\n",
    "lascopath = DATA_PATH+'/soho/lasco/level_1/c2'\n",
    "\n",
    "CorA =  secchipath+'/a/img/cor2/20101214/level1/20101214_162400_04c2A.fts'\n",
    "CorB = secchipath+'/b/img/cor2/20101214/level1/20101214_162400_04c2B.fts'\n",
    "LascoC2 = lascopath+'/20101214/25354684.fts'\n",
    "# mainpath  = '/gehme/data'\n",
    "# eventpath = 'test_event/'\n",
    "# c2path    = mainpath+eventpath+'c2/' \n",
    "# c3path    = mainpath+eventpath+'c3/' \n",
    "# cor2apath = mainpath+eventpath+'cor2/a/' \n",
    "# cor2bpath = mainpath+eventpath+'cor2/b/'\n",
    "\n",
    "# ISSI data (hierarchy folders)\n",
    " \n",
    "# fnameA2 = getFile(CorA)\n",
    "# fnameB2 = getFile(CorB)\n",
    "# fnameL2  = getFile(LascoC2)\n",
    "\n",
    "# Non ISSI data (all in one folder)\n",
    "# '''thisPath = mainpath+eventpath\n",
    "# fnameA1 = getFile(thisPath, '20130522_080', ext='A.fts')\n",
    "# fnameB1 = getFile(thisPath, '20130522_080', ext='B.fts')\n",
    "# fnameL1  = getFile(thisPath, '20130522_075', ext='C2.fts') \n",
    "# fnameA2 = getFile(thisPath, '20130522_132', ext='A.fts')\n",
    "# fnameB2 = getFile(thisPath, '20130522_132', ext='B.fts')\n",
    "# fnameL2  = getFile(thisPath, '20130522_132', ext='C2.fts')'''\n",
    "\n",
    "# STEREO A\n",
    "# ima1, hdra1 = sunpy.io.fits.read(fnameA1)[0]\n",
    "# smap_SA1 = sunpy.map.Map(ima1, hdra1)\n",
    "ima2, hdra2 = sunpy.io.fits.read(CorA)[0]\n",
    "smap_SA2 = sunpy.map.Map(ima2, hdra2)\n",
    "\n",
    "# # STEREO B\n",
    "# imb1, hdrb1 = sunpy.io.fits.read(fnameB1)[0]\n",
    "# smap_SB1 = sunpy.map.Map(imb1, hdrb1)\n",
    "imb2, hdrb2 = sunpy.io.fits.read(CorB)[0]\n",
    "smap_SB2 = sunpy.map.Map(imb2, hdrb2)\n",
    "\n",
    "# # LASCO\n",
    "\n",
    "if ISSIflag:\n",
    "#     imL1, hdrL1 = sunpy.io.fits.read(fnameL1)[0]\n",
    "    imL2, hdrL2 = sunpy.io.fits.read(LascoC2)[0]\n",
    "    \n",
    "else:\n",
    "#     with fits.open(fnameL1) as myfitsL1:\n",
    "#         imL1 = myfitsL1[0].data\n",
    "#         myfitsL1[0].header['OBSRVTRY'] = 'SOHO'\n",
    "#         coordL1 = get_horizons_coord(-21, datetime.datetime.strptime(myfitsL1[0].header['DATE-OBS'], \"%Y-%m-%dT%H:%M:%S.%f\"), 'id')\n",
    "#         coordL1carr = coordL1.transform_to(sunpy.coordinates.frames.HeliographicCarrington)\n",
    "#         coordL1ston = coordL1.transform_to(sunpy.coordinates.frames.HeliographicStonyhurst)\n",
    "#         myfitsL1[0].header['CRLT_OBS'] = coordL1carr.lat.deg\n",
    "#         myfitsL1[0].header['CRLN_OBS'] = coordL1carr.lon.deg\n",
    "#         myfitsL1[0].header['HGLT_OBS'] = coordL1ston.lat.deg\n",
    "#         myfitsL1[0].header['HGLN_OBS'] = coordL1ston.lon.deg\n",
    "#         hdrL1 = myfitsL1[0].header\n",
    "    with fits.open(LascoC2) as myfitsL2:\n",
    "        imL2 = myfitsL2[0].data\n",
    "        myfitsL2[0].header['OBSRVTRY'] = 'SOHO'\n",
    "        coordL2 = get_horizons_coord(-21, datetime.datetime.strptime(myfitsL2[0].header['DATE-OBS'], \"%Y-%m-%dT%H:%M:%S.%f\"), 'id')\n",
    "        coordL2carr = coordL2.transform_to(sunpy.coordinates.frames.HeliographicCarrington)\n",
    "        coordL2ston = coordL2.transform_to(sunpy.coordinates.frames.HeliographicStonyhurst)\n",
    "        myfitsL2[0].header['CRLT_OBS'] = coordL2carr.lat.deg\n",
    "        myfitsL2[0].header['CRLN_OBS'] = coordL2carr.lon.deg\n",
    "        myfitsL2[0].header['HGLT_OBS'] = coordL2ston.lat.deg\n",
    "        myfitsL2[0].header['HGLN_OBS'] = coordL2ston.lon.deg\n",
    "        hdrL2 = myfitsL2[0].header\n",
    "# smap_L1 = sunpy.map.Map(imL1, hdrL1)\n",
    "smap_L2 = sunpy.map.Map(imL2, hdrL2)\n",
    "\n",
    "headers = [hdra2, hdrL2, hdrb2]\n"
   ]
  },
  {
   "cell_type": "markdown",
   "metadata": {},
   "source": [
    "## Tamaño de los occulters referenciados al RSUN"
   ]
  },
  {
   "cell_type": "code",
   "execution_count": 53,
   "metadata": {},
   "outputs": [],
   "source": [
    "cor2 = 2\n",
    "c3 = 3.7\n",
    "size_occ = [cor2, c3, cor2]"
   ]
  },
  {
   "cell_type": "markdown",
   "metadata": {},
   "source": [
    "## Prueba"
   ]
  },
  {
   "cell_type": "code",
   "execution_count": 68,
   "metadata": {},
   "outputs": [],
   "source": [
    "dic_parameters = dic_Parameters(CMElons, CMElats, CMEtilts, heights, ks, angs, nleg, ncirc, ncross)"
   ]
  },
  {
   "cell_type": "code",
   "execution_count": 70,
   "metadata": {},
   "outputs": [
    {
     "name": "stdout",
     "output_type": "stream",
     "text": [
      "<class 'int'>\n"
     ]
    }
   ],
   "source": [
    "print(type(angs[3]))"
   ]
  },
  {
   "cell_type": "code",
   "execution_count": 69,
   "metadata": {},
   "outputs": [
    {
     "ename": "TypeError",
     "evalue": "can't multiply sequence by non-int of type 'float'",
     "output_type": "error",
     "traceback": [
      "\u001b[0;31m---------------------------------------------------------------------------\u001b[0m",
      "\u001b[0;31mTypeError\u001b[0m                                 Traceback (most recent call last)",
      "\u001b[0;32m<ipython-input-69-83d2c2caeaf7>\u001b[0m in \u001b[0;36m<module>\u001b[0;34m\u001b[0m\n\u001b[0;32m----> 1\u001b[0;31m \u001b[0mforwardGCS\u001b[0m\u001b[0;34m(\u001b[0m\u001b[0mdic_parameters\u001b[0m\u001b[0;34m,\u001b[0m \u001b[0mheaders\u001b[0m\u001b[0;34m,\u001b[0m \u001b[0msize_occ\u001b[0m\u001b[0;34m)\u001b[0m\u001b[0;34m\u001b[0m\u001b[0;34m\u001b[0m\u001b[0m\n\u001b[0m",
      "\u001b[0;32m<ipython-input-50-258d8dc0b3c6>\u001b[0m in \u001b[0;36mforwardGCS\u001b[0;34m(dict_parameters, headers, size_occ)\u001b[0m\n\u001b[1;32m      8\u001b[0m     \u001b[0;31m# creo Set de imágenes de CMEs para todas las combinaciones de los parámetros de entrada para cada vista de SATPOS:\u001b[0m\u001b[0;34m\u001b[0m\u001b[0;34m\u001b[0m\u001b[0;34m\u001b[0m\u001b[0m\n\u001b[1;32m      9\u001b[0m     \u001b[0;32mfor\u001b[0m \u001b[0mconfig\u001b[0m \u001b[0;32min\u001b[0m \u001b[0mdict_parameters\u001b[0m\u001b[0;34m[\u001b[0m\u001b[0;34m'config'\u001b[0m\u001b[0;34m]\u001b[0m\u001b[0;34m:\u001b[0m\u001b[0;34m\u001b[0m\u001b[0;34m\u001b[0m\u001b[0m\n\u001b[0;32m---> 10\u001b[0;31m         \u001b[0mclouds\u001b[0m \u001b[0;34m=\u001b[0m \u001b[0mgetGCS\u001b[0m\u001b[0;34m(\u001b[0m\u001b[0mconfig\u001b[0m\u001b[0;34m[\u001b[0m\u001b[0;36m0\u001b[0m\u001b[0;34m]\u001b[0m\u001b[0;34m,\u001b[0m \u001b[0mconfig\u001b[0m\u001b[0;34m[\u001b[0m\u001b[0;36m1\u001b[0m\u001b[0;34m]\u001b[0m\u001b[0;34m,\u001b[0m \u001b[0mconfig\u001b[0m\u001b[0;34m[\u001b[0m\u001b[0;36m2\u001b[0m\u001b[0;34m]\u001b[0m\u001b[0;34m,\u001b[0m \u001b[0mconfig\u001b[0m\u001b[0;34m[\u001b[0m\u001b[0;36m3\u001b[0m\u001b[0;34m]\u001b[0m\u001b[0;34m,\u001b[0m \u001b[0mconfig\u001b[0m\u001b[0;34m[\u001b[0m\u001b[0;36m4\u001b[0m\u001b[0;34m]\u001b[0m\u001b[0;34m,\u001b[0m \u001b[0mconfig\u001b[0m\u001b[0;34m[\u001b[0m\u001b[0;36m5\u001b[0m\u001b[0;34m]\u001b[0m\u001b[0;34m,\u001b[0m \u001b[0msatpos\u001b[0m\u001b[0;34m,\u001b[0m \u001b[0mconfig\u001b[0m\u001b[0;34m[\u001b[0m\u001b[0;36m6\u001b[0m\u001b[0;34m]\u001b[0m\u001b[0;34m,\u001b[0m \u001b[0mconfig\u001b[0m\u001b[0;34m[\u001b[0m\u001b[0;36m7\u001b[0m\u001b[0;34m]\u001b[0m\u001b[0;34m,\u001b[0m \u001b[0mconfig\u001b[0m\u001b[0;34m[\u001b[0m\u001b[0;36m8\u001b[0m\u001b[0;34m]\u001b[0m\u001b[0;34m)\u001b[0m\u001b[0;34m\u001b[0m\u001b[0;34m\u001b[0m\u001b[0m\n\u001b[0m\u001b[1;32m     11\u001b[0m         \u001b[0;31m#with open('/gehme/projects/2020_gcs_with_ml/data/%s.dat' %config_name, 'a') as config_file:\u001b[0m\u001b[0;34m\u001b[0m\u001b[0;34m\u001b[0m\u001b[0;34m\u001b[0m\u001b[0m\n\u001b[1;32m     12\u001b[0m         \u001b[0;32mfor\u001b[0m \u001b[0msat\u001b[0m \u001b[0;32min\u001b[0m \u001b[0mrange\u001b[0m\u001b[0;34m(\u001b[0m\u001b[0mlen\u001b[0m\u001b[0;34m(\u001b[0m\u001b[0msatpos\u001b[0m\u001b[0;34m)\u001b[0m\u001b[0;34m)\u001b[0m\u001b[0;34m:\u001b[0m\u001b[0;34m\u001b[0m\u001b[0;34m\u001b[0m\u001b[0m\n",
      "\u001b[0;32m/gehme/home/iglesias/work/repository/2020_gcs_with_ml/code/pyGCS_.py\u001b[0m in \u001b[0;36mgetGCS\u001b[0;34m(CMElon, CMElat, CMEtilt, height, k, ang, satpos, nleg, ncirc, ncross)\u001b[0m\n\u001b[1;32m    126\u001b[0m \u001b[0;34m\u001b[0m\u001b[0m\n\u001b[1;32m    127\u001b[0m \u001b[0;32mdef\u001b[0m \u001b[0mgetGCS\u001b[0m\u001b[0;34m(\u001b[0m\u001b[0mCMElon\u001b[0m\u001b[0;34m,\u001b[0m \u001b[0mCMElat\u001b[0m\u001b[0;34m,\u001b[0m \u001b[0mCMEtilt\u001b[0m\u001b[0;34m,\u001b[0m \u001b[0mheight\u001b[0m\u001b[0;34m,\u001b[0m \u001b[0mk\u001b[0m\u001b[0;34m,\u001b[0m \u001b[0mang\u001b[0m\u001b[0;34m,\u001b[0m \u001b[0msatpos\u001b[0m\u001b[0;34m,\u001b[0m \u001b[0mnleg\u001b[0m\u001b[0;34m=\u001b[0m\u001b[0;36m5\u001b[0m\u001b[0;34m,\u001b[0m \u001b[0mncirc\u001b[0m\u001b[0;34m=\u001b[0m\u001b[0;36m20\u001b[0m\u001b[0;34m,\u001b[0m \u001b[0mncross\u001b[0m\u001b[0;34m=\u001b[0m\u001b[0;36m30\u001b[0m\u001b[0;34m)\u001b[0m\u001b[0;34m:\u001b[0m\u001b[0;34m\u001b[0m\u001b[0;34m\u001b[0m\u001b[0m\n\u001b[0;32m--> 128\u001b[0;31m     \u001b[0mcloud\u001b[0m \u001b[0;34m=\u001b[0m \u001b[0mcmecloud\u001b[0m\u001b[0;34m(\u001b[0m\u001b[0mang\u001b[0m\u001b[0;34m*\u001b[0m\u001b[0mdtor\u001b[0m\u001b[0;34m,\u001b[0m \u001b[0mheight\u001b[0m\u001b[0;34m,\u001b[0m \u001b[0mnleg\u001b[0m\u001b[0;34m,\u001b[0m \u001b[0mncirc\u001b[0m\u001b[0;34m,\u001b[0m \u001b[0mk\u001b[0m\u001b[0;34m,\u001b[0m \u001b[0mncross\u001b[0m\u001b[0;34m)\u001b[0m\u001b[0;34m\u001b[0m\u001b[0;34m\u001b[0m\u001b[0m\n\u001b[0m\u001b[1;32m    129\u001b[0m     \u001b[0;31m# in order (of parens) rotx to tilt, roty by -lat, rotz by lon\u001b[0m\u001b[0;34m\u001b[0m\u001b[0;34m\u001b[0m\u001b[0;34m\u001b[0m\u001b[0m\n\u001b[1;32m    130\u001b[0m     \u001b[0;31m#cloud = np.transpose(rotz(roty(rotx(np.transpose(cloud), CMEtilt),-CMElat),CMElon))\u001b[0m\u001b[0;34m\u001b[0m\u001b[0;34m\u001b[0m\u001b[0;34m\u001b[0m\u001b[0m\n",
      "\u001b[0;31mTypeError\u001b[0m: can't multiply sequence by non-int of type 'float'"
     ]
    }
   ],
   "source": [
    "forwardGCS(dic_parameters, headers, size_occ)"
   ]
  },
  {
   "cell_type": "code",
   "execution_count": null,
   "metadata": {},
   "outputs": [],
   "source": []
  }
 ],
 "metadata": {
  "kernelspec": {
   "display_name": "Python 3",
   "language": "python",
   "name": "python3"
  },
  "language_info": {
   "codemirror_mode": {
    "name": "ipython",
    "version": 3
   },
   "file_extension": ".py",
   "mimetype": "text/x-python",
   "name": "python",
   "nbconvert_exporter": "python",
   "pygments_lexer": "ipython3",
   "version": "3.8.2"
  }
 },
 "nbformat": 4,
 "nbformat_minor": 4
}
