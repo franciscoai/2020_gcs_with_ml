{
 "cells": [
  {
   "cell_type": "code",
   "execution_count": null,
   "metadata": {},
   "outputs": [],
   "source": [
    "#!/usr/bin/env python\n",
    "# coding: utf-8"
   ]
  },
  {
   "cell_type": "markdown",
   "metadata": {},
   "source": [
    "## Librerias"
   ]
  },
  {
   "cell_type": "code",
   "execution_count": 1,
   "metadata": {},
   "outputs": [],
   "source": [
    "from pyGCS_ import *\n",
    "import numpy as np\n",
    "import numpy.ma as ma\n",
    "import datetime\n",
    "import struct\n",
    "import matplotlib.pyplot as plt\n",
    "import matplotlib.path as mpath\n",
    "import matplotlib.patches as mpatches\n",
    "from scipy.stats import kde\n",
    "from astropy.io import fits #proporciona acceso a los archivos de FITS(Flexible Image Transport System) es un estándar de archivos portátiles \n",
    "import sunpy\n",
    "from sunpy.coordinates.ephemeris import get_horizons_coord\n",
    "import sunpy.map\n",
    "from sunpy.map.maputils import all_coordinates_from_map\n",
    "import json\n",
    "import random\n",
    "import pandas as pd"
   ]
  },
  {
   "cell_type": "markdown",
   "metadata": {},
   "source": [
    "## Función ajuste del centro del sol"
   ]
  },
  {
   "cell_type": "code",
   "execution_count": 2,
   "metadata": {},
   "outputs": [],
   "source": [
    "def center_rSun_pixel(headers,plotranges, sat):\n",
    "    x_cS = (headers[sat]['CRPIX1']*plotranges[sat][sat]*2)/headers[sat]['NAXIS1'] - plotranges[sat][sat]\n",
    "    y_cS = (headers[sat]['CRPIX2']*plotranges[sat][sat]*2)/headers[sat]['NAXIS2'] - plotranges[sat][sat]\n",
    "    return x_cS, y_cS"
   ]
  },
  {
   "cell_type": "markdown",
   "metadata": {},
   "source": [
    "## Función Kernel Density Estimation (se parece a la de intensidad, pero no)"
   ]
  },
  {
   "cell_type": "code",
   "execution_count": 3,
   "metadata": {},
   "outputs": [],
   "source": [
    "def xi_yi_zi_KDE(x, y, nbins=300): \n",
    "    \n",
    "    #representa cada punto discreto por una campana de Gauss:\n",
    "    k = kde.gaussian_kde([x,y]) \n",
    "    #nbins es el ancho de cada campana\n",
    "    xi, yi = np.mgrid[x.min():x.max():nbins*1j, y.min():y.max():nbins*1j] \n",
    "    zi = k(np.vstack([xi.flatten(), yi.flatten()])) \n",
    "    return  xi, yi, zi             \n",
    "     "
   ]
  },
  {
   "cell_type": "markdown",
   "metadata": {},
   "source": [
    "## Headers de CMEs reales, solo para usar la posición de los satélites"
   ]
  },
  {
   "cell_type": "code",
   "execution_count": 4,
   "metadata": {},
   "outputs": [],
   "source": [
    "#flag if using LASCO data from ISSI which has STEREOlike headers already\n",
    "ISSIflag = False"
   ]
  },
  {
   "cell_type": "markdown",
   "metadata": {},
   "source": [
    "Read in your data"
   ]
  },
  {
   "cell_type": "code",
   "execution_count": 5,
   "metadata": {},
   "outputs": [],
   "source": [
    "DATA_PATH = '/gehme/data'\n",
    "secchipath = DATA_PATH+'/stereo/secchi/L0'\n",
    "lascopath = DATA_PATH+'/soho/lasco/level_1/c2'\n",
    "\n",
    "CorA = secchipath+'/a/img/cor2/20101214/level1/20101214_162400_04c2A.fts'\n",
    "CorB = secchipath+'/b/img/cor2/20101214/level1/20101214_162400_04c2B.fts'\n",
    "LascoC2 = lascopath+'/20101214/25354684.fts'"
   ]
  },
  {
   "cell_type": "markdown",
   "metadata": {},
   "source": [
    "# STEREO A"
   ]
  },
  {
   "cell_type": "code",
   "execution_count": 6,
   "metadata": {},
   "outputs": [],
   "source": [
    "ima2, hdra2 = sunpy.io.fits.read(CorA)[0]\n",
    "smap_SA2 = sunpy.map.Map(ima2, hdra2)"
   ]
  },
  {
   "cell_type": "markdown",
   "metadata": {},
   "source": [
    "# STEREO B"
   ]
  },
  {
   "cell_type": "code",
   "execution_count": 7,
   "metadata": {},
   "outputs": [],
   "source": [
    "imb2, hdrb2 = sunpy.io.fits.read(CorB)[0]\n",
    "smap_SB2 = sunpy.map.Map(imb2, hdrb2)"
   ]
  },
  {
   "cell_type": "markdown",
   "metadata": {},
   "source": [
    "# LASCO"
   ]
  },
  {
   "cell_type": "code",
   "execution_count": 8,
   "metadata": {},
   "outputs": [
    {
     "name": "stdout",
     "output_type": "stream",
     "text": [
      "INFO: Obtained JPL HORIZONS location for SOHO (spacecraft) (-21) [sunpy.coordinates.ephemeris]\n"
     ]
    }
   ],
   "source": [
    "if ISSIflag:\n",
    "    \n",
    "#     imL1, hdrL1 = sunpy.io.fits.read(fnameL1)[0]\n",
    "    imL2, hdrL2 = sunpy.io.fits.read(LascoC2)[0]\n",
    "    \n",
    "else:\n",
    "#     with fits.open(fnameL1) as myfitsL1:\n",
    "#         imL1 = myfitsL1[0].data\n",
    "#         myfitsL1[0].header['OBSRVTRY'] = 'SOHO'\n",
    "#         coordL1 = get_horizons_coord(-21, datetime.datetime.strptime(myfitsL1[0].header['DATE-OBS'], \"%Y-%m-%dT%H:%M:%S.%f\"), 'id')\n",
    "#         coordL1carr = coordL1.transform_to(sunpy.coordinates.frames.HeliographicCarrington)\n",
    "#         coordL1ston = coordL1.transform_to(sunpy.coordinates.frames.HeliographicStonyhurst)\n",
    "#         myfitsL1[0].header['CRLT_OBS'] = coordL1carr.lat.deg\n",
    "#         myfitsL1[0].header['CRLN_OBS'] = coordL1carr.lon.deg\n",
    "#         myfitsL1[0].header['HGLT_OBS'] = coordL1ston.lat.deg\n",
    "#         myfitsL1[0].header['HGLN_OBS'] = coordL1ston.lon.deg\n",
    "#         hdrL1 = myfitsL1[0].header\n",
    "    with fits.open(LascoC2) as myfitsL2:\n",
    "        imL2 = myfitsL2[0].data\n",
    "        myfitsL2[0].header['OBSRVTRY'] = 'SOHO'\n",
    "        coordL2 = get_horizons_coord(-21, datetime.datetime.strptime(myfitsL2[0].header['DATE-OBS'], \"%Y-%m-%dT%H:%M:%S.%f\"), 'id')\n",
    "        coordL2carr = coordL2.transform_to(sunpy.coordinates.frames.HeliographicCarrington)\n",
    "        coordL2ston = coordL2.transform_to(sunpy.coordinates.frames.HeliographicStonyhurst)\n",
    "        myfitsL2[0].header['CRLT_OBS'] = coordL2carr.lat.deg\n",
    "        myfitsL2[0].header['CRLN_OBS'] = coordL2carr.lon.deg\n",
    "        myfitsL2[0].header['HGLT_OBS'] = coordL2ston.lat.deg\n",
    "        myfitsL2[0].header['HGLN_OBS'] = coordL2ston.lon.deg\n",
    "        hdrL2 = myfitsL2[0].header\n",
    "#smap_L1 = sunpy.map.Map(imL1, hdrL1)\n",
    "#smap_L2 = sunpy.map.Map(imL2, hdrL2)"
   ]
  },
  {
   "cell_type": "code",
   "execution_count": 9,
   "metadata": {},
   "outputs": [],
   "source": [
    "headers = [hdra2, hdrL2, hdrb2]\n",
    "\n",
    "#sin lasco:\n",
    "#headers = [hdra2, hdrb2]"
   ]
  },
  {
   "cell_type": "markdown",
   "metadata": {},
   "source": [
    "## Tamaño de los occulters referenciados al RSUN"
   ]
  },
  {
   "cell_type": "code",
   "execution_count": 10,
   "metadata": {},
   "outputs": [],
   "source": [
    "cor2 = 2\n",
    "c3 = 3.7"
   ]
  },
  {
   "cell_type": "markdown",
   "metadata": {},
   "source": [
    "# DATOS DE ENTRADA"
   ]
  },
  {
   "cell_type": "code",
   "execution_count": 11,
   "metadata": {},
   "outputs": [],
   "source": [
    "#arrays aleatorias de parámetros 1D:\n",
    "n = 3 #cant de valores de cada parámetro\n",
    "\n",
    "CMElons = np.random.randint(60, 63, n)\n",
    "\n",
    "CMElats = np.random.randint(20, 23, n)\n",
    "\n",
    "CMEtilts = np.random.randint(70, 73, n)\n",
    "\n",
    "heights = np.random.randint(6, 9, n)\n",
    "\n",
    "ks = np.random.random_sample(size = n)\n",
    "\n",
    "angs = np.random.randint(30, 33, n)\n",
    "\n",
    "#cada array de parámetro pasa a ser una columna del set de parámetros:\n",
    "\n",
    "set_parameters = np.column_stack((CMElons, CMElats, CMEtilts, heights, ks, angs))"
   ]
  },
  {
   "cell_type": "markdown",
   "metadata": {},
   "source": [
    "## Save configuración en .CSV"
   ]
  },
  {
   "cell_type": "code",
   "execution_count": 12,
   "metadata": {},
   "outputs": [],
   "source": [
    "path = '/gehme/projects/2020_gcs_with_ml/repo/data/forwardGCS_test/'    \n",
    "date_str = datetime.datetime.strftime(datetime.datetime.now(), '%Y%m%d_')\n",
    "configfile_name = path+date_str+'Set_Parameters.csv'\n",
    "header_name = [ 'CMElon',\n",
    "           'CMElat',\n",
    "           'CMEtilt',\n",
    "           'height',\n",
    "           'k',\n",
    "           'ang'\n",
    "           ]\n",
    "set = pd.DataFrame(set_parameters, columns=header_name)\n",
    "set.to_csv(configfile_name)"
   ]
  },
  {
   "cell_type": "markdown",
   "metadata": {},
   "source": [
    "## Función forwardGCS, simula CMEs en 3D de distintos parámetros morfológicos pero desde la misma posición de los satélites, esta dada por los headers"
   ]
  },
  {
   "cell_type": "code",
   "execution_count": 15,
   "metadata": {},
   "outputs": [],
   "source": [
    "def forwardGCS(configfile_name, headers, size_occ=[2,3.7,2]):\n",
    "    # Get the location of sats and the range of each image:\n",
    "    satpos, plotranges = processHeaders(headers)\n",
    "    df = pd.DataFrame(pd.read_csv(configfile_name))\n",
    "    for row in range(len(df)):\n",
    "        clouds = getGCS(df['CMElon'][row], df['CMElat'][row], df['CMEtilt'][row], df['height'][row], df['k'][row], df['ang'][row], satpos)\n",
    "        for sat in range(len(satpos)):\n",
    "            #creo figura:\n",
    "            fig = plt.figure(figsize=(3.556,3.556), facecolor='black')\n",
    "            ax = fig.add_subplot()\n",
    "            x = clouds[sat,:,1]\n",
    "            y = clouds[0,:,2]\n",
    "            #calculo el centro y el radio del sol en coordenada de plotrange\n",
    "            x_cS, y_cS= center_rSun_pixel(headers,plotranges, sat)\n",
    "            #mapeo la matriz [zi,xi], con límites [xi,yi]:\n",
    "            #xi, yi, zi = xi_yi_zi_KDE(x, y)\n",
    "            #plt.pcolormesh(xi, yi, zi.reshape(xi.shape), cmap='gist_yarg', facecolor='black')\n",
    "            #plt.imshow(ims[sat], vmin=-10, vmax=10, cmap=cm.binary, zorder=0, extent=plotranges[sat])\n",
    "            #imagen de puntos de la CME:\n",
    "            plt.scatter(clouds[sat,:,1], clouds[0,:,2], s=5, c='purple', linewidths=0)\n",
    "            #circulos occulter y limbo:\n",
    "            occulter = plt.Circle((x_cS, y_cS), size_occ[sat], fc='white')\n",
    "            limbo = plt.Circle((x_cS, y_cS), 1, ec='black', fc='white')\n",
    "            ax.add_artist(occulter)\n",
    "            ax.add_artist(limbo)\n",
    "            #tamaño de la imagen referenciado al tamaño de la imagen del sol:\n",
    "            plt.xlim(plotranges[sat][0],plotranges[sat][1])\n",
    "            plt.ylim(plotranges[sat][2],plotranges[sat][3])\n",
    "            plt.axis('off')\n",
    "            #guardo cada vista CME\n",
    "            \n",
    "            fig.savefig('/gehme/projects/2020_gcs_with_ml/repo/data/forwardGCS_test/{:08.3f}_{:08.3f}_{:08.3f}_{:08.3f}_{:08.3f}_{:08.3f}_sat{}.png'.format(df['CMElon'][row], df['CMElat'][row], df['CMEtilt'][row], df['height'][row], df['k'][row], df['ang'][row], sat+1),facecolor=fig.get_facecolor())\n",
    "            \n",
    "            plt.show()\n",
    "            plt.close(fig)"
   ]
  },
  {
   "cell_type": "markdown",
   "metadata": {},
   "source": [
    "## Prueba"
   ]
  },
  {
   "cell_type": "code",
   "execution_count": 16,
   "metadata": {},
   "outputs": [
    {
     "data": {
      "image/png": "[encoded data removed]",
      "text/plain": [
       "<Figure size 256.032x256.032 with 1 Axes>"
      ]
     },
     "metadata": {},
     "output_type": "display_data"
    },
    {
     "data": {
      "image/png": "[encoded data removed]",
      "text/plain": [
       "<Figure size 256.032x256.032 with 1 Axes>"
      ]
     },
     "metadata": {},
     "output_type": "display_data"
    },
    {
     "data": {
      "image/png": "[encoded data removed]",
      "text/plain": [
       "<Figure size 256.032x256.032 with 1 Axes>"
      ]
     },
     "metadata": {},
     "output_type": "display_data"
    },
    {
     "data": {
      "image/png": "[encoded data removed]",
      "text/plain": [
       "<Figure size 256.032x256.032 with 1 Axes>"
      ]
     },
     "metadata": {},
     "output_type": "display_data"
    },
    {
     "data": {
      "image/png": "[encoded data removed]",
      "text/plain": [
       "<Figure size 256.032x256.032 with 1 Axes>"
      ]
     },
     "metadata": {},
     "output_type": "display_data"
    },
    {
     "data": {
      "image/png": "[encoded data removed]",
      "text/plain": [
       "<Figure size 256.032x256.032 with 1 Axes>"
      ]
     },
     "metadata": {},
     "output_type": "display_data"
    },
    {
     "data": {
      "image/png": "[encoded data removed]",
      "text/plain": [
       "<Figure size 256.032x256.032 with 1 Axes>"
      ]
     },
     "metadata": {},
     "output_type": "display_data"
    },
    {
     "data": {
      "image/png": "[encoded data removed]",
      "text/plain": [
       "<Figure size 256.032x256.032 with 1 Axes>"
      ]
     },
     "metadata": {},
     "output_type": "display_data"
    },
    {
     "data": {
      "image/png": "[encoded data removed]",
      "text/plain": [
       "<Figure size 256.032x256.032 with 1 Axes>"
      ]
     },
     "metadata": {},
     "output_type": "display_data"
    }
   ],
   "source": [
    "forwardGCS(configfile_name, headers)\n"
   ]
  },
  {
   "cell_type": "code",
   "execution_count": null,
   "metadata": {},
   "outputs": [],
   "source": []
  }
 ],
 "metadata": {
  "kernelspec": {
   "display_name": "Python 3",
   "language": "python",
   "name": "python3"
  },
  "language_info": {
   "codemirror_mode": {
    "name": "ipython",
    "version": 3
   },
   "file_extension": ".py",
   "mimetype": "text/x-python",
   "name": "python",
   "nbconvert_exporter": "python",
   "pygments_lexer": "ipython3",
   "version": "3.8.2"
  }
 },
 "nbformat": 4,
 "nbformat_minor": 2
}
