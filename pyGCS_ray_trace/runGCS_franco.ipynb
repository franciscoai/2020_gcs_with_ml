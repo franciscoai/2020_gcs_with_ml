{
 "cells": [
  {
   "cell_type": "code",
   "execution_count": 6,
   "metadata": {},
   "outputs": [
    {
     "ename": "ModuleNotFoundError",
     "evalue": "No module named 'PyQt5'",
     "output_type": "error",
     "traceback": [
      "\u001b[0;31m---------------------------------------------------------------------------\u001b[0m",
      "\u001b[0;31mModuleNotFoundError\u001b[0m                       Traceback (most recent call last)",
      "\u001b[0;32m<ipython-input-6-a5b1a78159da>\u001b[0m in \u001b[0;36m<module>\u001b[0;34m\u001b[0m\n\u001b[0;32m----> 1\u001b[0;31m \u001b[0;32mfrom\u001b[0m \u001b[0mPyQt5\u001b[0m \u001b[0;32mimport\u001b[0m \u001b[0mQtWidgets\u001b[0m\u001b[0;34m,\u001b[0m \u001b[0mQtGui\u001b[0m\u001b[0;34m,\u001b[0m \u001b[0mQtCore\u001b[0m\u001b[0;34m\u001b[0m\u001b[0;34m\u001b[0m\u001b[0m\n\u001b[0m\u001b[1;32m      2\u001b[0m \u001b[0;32mfrom\u001b[0m \u001b[0mastropy\u001b[0m\u001b[0;34m.\u001b[0m\u001b[0mio\u001b[0m \u001b[0;32mimport\u001b[0m \u001b[0mfits\u001b[0m \u001b[0;31m#proporciona acceso a los archivos de FITS(Flexible Image Transport System) es un estándar de archivos portátiles\u001b[0m\u001b[0;34m\u001b[0m\u001b[0;34m\u001b[0m\u001b[0m\n\u001b[1;32m      3\u001b[0m \u001b[0;32mfrom\u001b[0m \u001b[0mpyGCS\u001b[0m \u001b[0;32mimport\u001b[0m \u001b[0;34m*\u001b[0m\u001b[0;34m\u001b[0m\u001b[0;34m\u001b[0m\u001b[0m\n\u001b[1;32m      4\u001b[0m \u001b[0;32mfrom\u001b[0m \u001b[0mGCSgui\u001b[0m \u001b[0;32mimport\u001b[0m \u001b[0;34m*\u001b[0m\u001b[0;34m\u001b[0m\u001b[0;34m\u001b[0m\u001b[0m\n\u001b[1;32m      5\u001b[0m \u001b[0;32mimport\u001b[0m \u001b[0msunpy\u001b[0m\u001b[0;34m\u001b[0m\u001b[0;34m\u001b[0m\u001b[0m\n",
      "\u001b[0;31mModuleNotFoundError\u001b[0m: No module named 'PyQt5'"
     ]
    }
   ],
   "source": [
    "from PyQt5 import QtWidgets, QtGui, QtCore\n",
    "from astropy.io import fits #proporciona acceso a los archivos de FITS(Flexible Image Transport System) es un estándar de archivos portátiles \n",
    "from pyGCS import *\n",
    "from GCSgui import *\n",
    "import sunpy\n",
    "from sunpy.coordinates.ephemeris import get_horizons_coord\n",
    "import datetime\n",
    "import matplotlib.pyplot as plt\n",
    "import numpy as np\n",
    "\n",
    "import csv "
   ]
  },
  {
   "cell_type": "code",
   "execution_count": null,
   "metadata": {},
   "outputs": [],
   "source": [
    "# flag if using LASCO data from ISSI which has STEREOlike headers already\n",
    "ISSIflag = False\n",
    "\n",
    "# Read in your data\n",
    "mainpath  = '/gehme/projects/2020_gcs_with_ml/data/'\n",
    "eventpath = 'test_event/'\n",
    "c2path    = mainpath+eventpath+'c2/' \n",
    "c3path    = mainpath+eventpath+'c3/' \n",
    "cor2apath = mainpath+eventpath+'cor2/a/' \n",
    "cor2bpath = mainpath+eventpath+'cor2/b/'\n",
    "\n",
    "# ISSI data (hierarchy folders)\n",
    "fnameA1 = getFile(cor2apath, '20010101_231')\n",
    "fnameB1 = getFile(cor2bpath, '20010101_231')\n",
    "fnameL1  = getFile(c3path, '20010101_232')  \n",
    "fnameA2 = getFile(cor2apath, '20010102_081')\n",
    "fnameB2 = getFile(cor2bpath, '20010102_081')\n",
    "fnameL2  = getFile(c3path, '20010102_082')  \n",
    "\n",
    "\n",
    "# Non ISSI data (all in one folder)\n",
    "'''thisPath = mainpath+eventpath\n",
    "fnameA1 = getFile(thisPath, '20130522_080', ext='A.fts')\n",
    "fnameB1 = getFile(thisPath, '20130522_080', ext='B.fts')\n",
    "fnameL1  = getFile(thisPath, '20130522_075', ext='C2.fts') \n",
    "fnameA2 = getFile(thisPath, '20130522_132', ext='A.fts')\n",
    "fnameB2 = getFile(thisPath, '20130522_132', ext='B.fts')\n",
    "fnameL2  = getFile(thisPath, '20130522_132', ext='C2.fts')'''"
   ]
  },
  {
   "cell_type": "code",
   "execution_count": null,
   "metadata": {},
   "outputs": [],
   "source": [
    "# STEREO A\n",
    "myfitsA1 = fits.open(fnameA1) # returns an object called an HDUList which is a list-like collection of HDU objects (Header Data Unit) \n",
    "ima1 = myfitsA1[0].data\n",
    "hdra1 = myfitsA1[0].header\n",
    "myfitsA2 = fits.open(fnameA2)\n",
    "ima2 = myfitsA2[0].data\n",
    "hdra2 = myfitsA2[0].header\n",
    "\n",
    "# STEREO B\n",
    "myfitsB1 = fits.open(fnameB1)\n",
    "imb1 = myfitsB1[0].data\n",
    "hdrb1 = myfitsB1[0].header\n",
    "myfitsB2 = fits.open(fnameB2)\n",
    "imb2 = myfitsB2[0].data\n",
    "hdrb2 = myfitsB2[0].header\n",
    "\n",
    "# LASCO\n",
    "if ISSIflag:\n",
    "    myfitsL1 = fits.open(fnameL1)\n",
    "    imL1 = myfitsL1[0].data\n",
    "    hdrL1 = myfitsL1[0].header\n",
    "    myfitsL2 = fits.open(fnameL2)\n",
    "    imL2 = myfitsL2[0].data\n",
    "    hdrL2 = myfitsL2[0].header\n",
    "else:\n",
    "    myfitsL1 = fits.open(fnameL1)\n",
    "    imL1 = myfitsL1[0].data\n",
    "    myfitsL1[0].header['OBSRVTRY'] = 'SOHO'\n",
    "    coordL1 = get_horizons_coord(-21, datetime.datetime.strptime(myfitsL1[0].header['DATE-OBS'], \"%Y-%m-%dT%H:%M:%S.%f\"), 'id')\n",
    "    coordL1carr = coordL1.transform_to(sunpy.coordinates.frames.HeliographicCarrington)\n",
    "    coordL1ston = coordL1.transform_to(sunpy.coordinates.frames.HeliographicStonyhurst)\n",
    "    myfitsL1[0].header['CRLT_OBS'] = coordL1carr.lat.deg\n",
    "    myfitsL1[0].header['CRLN_OBS'] = coordL1carr.lon.deg\n",
    "    myfitsL1[0].header['HGLT_OBS'] = coordL1ston.lat.deg\n",
    "    myfitsL1[0].header['HGLN_OBS'] = coordL1ston.lon.deg\n",
    "    hdrL1 = myfitsL1[0].header\n",
    "    myfitsL2 = fits.open(fnameL2)\n",
    "    imL2 = myfitsL2[0].data\n",
    "    myfitsL2[0].header['OBSRVTRY'] = 'SOHO'\n",
    "    coordL2 = get_horizons_coord(-21, datetime.datetime.strptime(myfitsL2[0].header['DATE-OBS'], \"%Y-%m-%dT%H:%M:%S.%f\"), 'id')\n",
    "    coordL2carr = coordL2.transform_to(sunpy.coordinates.frames.HeliographicCarrington)\n",
    "    coordL2ston = coordL2.transform_to(sunpy.coordinates.frames.HeliographicStonyhurst)\n",
    "    myfitsL2[0].header['CRLT_OBS'] = coordL2carr.lat.deg\n",
    "    myfitsL2[0].header['CRLN_OBS'] = coordL2carr.lon.deg\n",
    "    myfitsL2[0].header['HGLT_OBS'] = coordL2ston.lat.deg\n",
    "    myfitsL2[0].header['HGLN_OBS'] = coordL2ston.lon.deg\n",
    "    hdrL2 = myfitsL2[0].header\n",
    "\n"
   ]
  },
  {
   "cell_type": "code",
   "execution_count": null,
   "metadata": {},
   "outputs": [],
   "source": [
    "# Options showing pyGCS for one, two, or three satellites ---------------|\n",
    "# It just needs to be passed the correct images and headers\n",
    "\n",
    "# Three Sats\n",
    "headers = [hdra2, hdrL2, hdrb2]\n",
    "ims = [np.transpose(ima2 - ima1), np.transpose(imL2 - imL1), np.transpose(imb2 - imb1)]\n",
    "\n",
    "#headers = [hdrb2, hdrb2]\n",
    "#ims = [np.transpose(imb2 - imb1), np.transpose(imb2 - imb1)]\n",
    "\n",
    "\n",
    "# Two Sats\n",
    "#headers = [hdrb2, hdra2]\n",
    "#ims = [np.transpose(imb2 - imb1),  np.transpose(ima2 - ima1)]\n",
    "\n",
    "# One Sat\n",
    "#headers = [hdrL2]\n",
    "#ims = [np.transpose(imL2 - imL1)]\n",
    "\n",
    "\n",
    "\n",
    "# Option to control the density of points in GCS shape -----------------|\n",
    "# ns = [nleg, ncirc, ncross]\n",
    "\n",
    "ns =[3,10,31]      \n",
    "#ns =[5,20,50]      \n",
    "\n",
    "# Get the sat and inst information from the headers --------------------|\n",
    "nSats = len(headers)        \n",
    "sats = [[hdr['OBSRVTRY'], hdr['DETECTOR']] for hdr in headers]\n",
    "\n",
    "# Get the location of sats and the range of each image -----------------|\n",
    "satpos, plotranges = processHeaders(headers)  \n"
   ]
  },
  {
   "cell_type": "code",
   "execution_count": null,
   "metadata": {},
   "outputs": [],
   "source": [
    "#print(satpos)\n",
    "#print(plotranges)"
   ]
  },
  {
   "cell_type": "code",
   "execution_count": null,
   "metadata": {},
   "outputs": [],
   "source": [
    "# Pass everything to the GUI -------------------------------------------|\n",
    "runGCSgui(ims, satpos, plotranges, sats, ns)"
   ]
  },
  {
   "cell_type": "code",
   "execution_count": null,
   "metadata": {},
   "outputs": [],
   "source": [
    "print(ims[0].max())\n",
    "print(ims[0].min())\n",
    "a = ims[0]\n",
    "a = np.array(a)\n",
    "a[a==0]=np.nan\n",
    "plt.imshow(a,vmin=-10,vmax=10,cmap='jet')\n",
    "plt.show()"
   ]
  },
  {
   "cell_type": "code",
   "execution_count": null,
   "metadata": {},
   "outputs": [],
   "source": [
    "print(sats)"
   ]
  },
  {
   "cell_type": "code",
   "execution_count": null,
   "metadata": {},
   "outputs": [],
   "source": [
    "clouds = getGCS(0, 30., 50., 12., 0.3, 30, satpos, nleg=5, ncirc=20, ncross=40)\n",
    "clouds.shape\n"
   ]
  }
 ],
 "metadata": {
  "kernelspec": {
   "display_name": "Python 3.6.9 64-bit",
   "language": "python",
   "name": "python3"
  },
  "language_info": {
   "codemirror_mode": {
    "name": "ipython",
    "version": 3
   },
   "file_extension": ".py",
   "mimetype": "text/x-python",
   "name": "python",
   "nbconvert_exporter": "python",
   "pygments_lexer": "ipython3",
   "version": "3.6.9"
  },
  "vscode": {
   "interpreter": {
    "hash": "31f2aee4e71d21fbe5cf8b01ff0e069b9275f58929596ceb00d14d90e3e16cd6"
   }
  }
 },
 "nbformat": 4,
 "nbformat_minor": 4
}
