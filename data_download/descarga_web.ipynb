{
 "cells": [
  {
   "cell_type": "code",
   "execution_count": 10,
   "metadata": {},
   "outputs": [
    {
     "name": "stdout",
     "output_type": "stream",
     "text": [
      "El archivo se ha descargado exitosamente.\n"
     ]
    }
   ],
   "source": [
    "import requests\n",
    "\n",
    "url = \"https://lasco-www.nrl.navy.mil/lz/level_1/101124/c2/25352163.fts.gz\"  # URL del archivo que deseas descargar\n",
    "nombre_archivo = \"25352163.fts.gz\"  # Nombre con el que se guardará el archivo en tu sistema\n",
    "\n",
    "# Realizar la solicitud GET para obtener el contenido del archivo\n",
    "respuesta = requests.get(url)\n",
    "\n",
    "# Verificar si la solicitud fue exitosa (código de estado 200)\n",
    "if respuesta.status_code == 200:\n",
    "    with open(nombre_archivo, \"wb\") as archivo:\n",
    "        archivo.write(respuesta.content)\n",
    "    print(\"El archivo se ha descargado exitosamente.\")\n",
    "else:\n",
    "    print(\"No se pudo descargar el archivo. Código de estado:\", respuesta.status_code)\n"
   ]
  },
  {
   "cell_type": "code",
   "execution_count": null,
   "metadata": {},
   "outputs": [],
   "source": []
  }
 ],
 "metadata": {
  "kernelspec": {
   "display_name": "actual",
   "language": "python",
   "name": "python3"
  },
  "language_info": {
   "codemirror_mode": {
    "name": "ipython",
    "version": 3
   },
   "file_extension": ".py",
   "mimetype": "text/x-python",
   "name": "python",
   "nbconvert_exporter": "python",
   "pygments_lexer": "ipython3",
   "version": "3.10.6"
  },
  "orig_nbformat": 4
 },
 "nbformat": 4,
 "nbformat_minor": 2
}
